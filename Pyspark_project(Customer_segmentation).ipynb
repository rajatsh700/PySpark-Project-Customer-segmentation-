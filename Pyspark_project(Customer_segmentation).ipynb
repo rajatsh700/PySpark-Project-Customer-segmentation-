{
 "cells": [
  {
   "cell_type": "code",
   "execution_count": 1,
   "id": "e1bed203-0189-4557-b4e5-50fc8f12f104",
   "metadata": {},
   "outputs": [],
   "source": [
    "import pyspark\n"
   ]
  },
  {
   "cell_type": "code",
   "execution_count": 2,
   "id": "3ed75db9-86ed-4945-9816-a1e9b0afa8e6",
   "metadata": {},
   "outputs": [
    {
     "name": "stdout",
     "output_type": "stream",
     "text": [
      "Requirement already satisfied: pyspark in c:\\users\\rajat\\miniconda3\\envs\\pyspark\\lib\\site-packages (3.5.1)\n",
      "Requirement already satisfied: py4j==0.10.9.7 in c:\\users\\rajat\\miniconda3\\envs\\pyspark\\lib\\site-packages (from pyspark) (0.10.9.7)\n",
      "Note: you may need to restart the kernel to use updated packages.\n"
     ]
    }
   ],
   "source": [
    "pip install pyspark"
   ]
  },
  {
   "cell_type": "code",
   "execution_count": 4,
   "id": "0122f093-3bfb-463f-9bc4-ca7e5d7e0197",
   "metadata": {},
   "outputs": [
    {
     "name": "stdout",
     "output_type": "stream",
     "text": [
      "Collecting matplotlib\n",
      "  Downloading matplotlib-3.9.1-cp312-cp312-win_amd64.whl.metadata (11 kB)\n",
      "Collecting contourpy>=1.0.1 (from matplotlib)\n",
      "  Downloading contourpy-1.2.1-cp312-cp312-win_amd64.whl.metadata (5.8 kB)\n",
      "Collecting cycler>=0.10 (from matplotlib)\n",
      "  Downloading cycler-0.12.1-py3-none-any.whl.metadata (3.8 kB)\n",
      "Collecting fonttools>=4.22.0 (from matplotlib)\n",
      "  Downloading fonttools-4.53.1-cp312-cp312-win_amd64.whl.metadata (165 kB)\n",
      "     ---------------------------------------- 0.0/165.9 kB ? eta -:--:--\n",
      "     -- ------------------------------------- 10.2/165.9 kB ? eta -:--:--\n",
      "     --------- --------------------------- 41.0/165.9 kB 495.5 kB/s eta 0:00:01\n",
      "     -------------------------------------- 165.9/165.9 kB 1.7 MB/s eta 0:00:00\n",
      "Collecting kiwisolver>=1.3.1 (from matplotlib)\n",
      "  Downloading kiwisolver-1.4.5-cp312-cp312-win_amd64.whl.metadata (6.5 kB)\n",
      "Requirement already satisfied: numpy>=1.23 in c:\\users\\rajat\\miniconda3\\envs\\pyspark\\lib\\site-packages (from matplotlib) (2.0.0)\n",
      "Requirement already satisfied: packaging>=20.0 in c:\\users\\rajat\\miniconda3\\envs\\pyspark\\lib\\site-packages (from matplotlib) (24.1)\n",
      "Collecting pillow>=8 (from matplotlib)\n",
      "  Downloading pillow-10.4.0-cp312-cp312-win_amd64.whl.metadata (9.3 kB)\n",
      "Collecting pyparsing>=2.3.1 (from matplotlib)\n",
      "  Downloading pyparsing-3.1.2-py3-none-any.whl.metadata (5.1 kB)\n",
      "Requirement already satisfied: python-dateutil>=2.7 in c:\\users\\rajat\\miniconda3\\envs\\pyspark\\lib\\site-packages (from matplotlib) (2.9.0.post0)\n",
      "Requirement already satisfied: six>=1.5 in c:\\users\\rajat\\miniconda3\\envs\\pyspark\\lib\\site-packages (from python-dateutil>=2.7->matplotlib) (1.16.0)\n",
      "Downloading matplotlib-3.9.1-cp312-cp312-win_amd64.whl (8.0 MB)\n",
      "   ---------------------------------------- 0.0/8.0 MB ? eta -:--:--\n",
      "   -- ------------------------------------- 0.4/8.0 MB 13.5 MB/s eta 0:00:01\n",
      "   ----- ---------------------------------- 1.1/8.0 MB 17.1 MB/s eta 0:00:01\n",
      "   ------- -------------------------------- 1.5/8.0 MB 11.9 MB/s eta 0:00:01\n",
      "   --------- ------------------------------ 2.0/8.0 MB 11.3 MB/s eta 0:00:01\n",
      "   ------------ --------------------------- 2.5/8.0 MB 12.2 MB/s eta 0:00:01\n",
      "   -------------- ------------------------- 2.9/8.0 MB 11.0 MB/s eta 0:00:01\n",
      "   ----------------- ---------------------- 3.4/8.0 MB 10.9 MB/s eta 0:00:01\n",
      "   --------------------- ------------------ 4.3/8.0 MB 11.9 MB/s eta 0:00:01\n",
      "   ----------------------- ---------------- 4.8/8.0 MB 11.7 MB/s eta 0:00:01\n",
      "   -------------------------- ------------- 5.3/8.0 MB 12.0 MB/s eta 0:00:01\n",
      "   ------------------------------ --------- 6.1/8.0 MB 12.2 MB/s eta 0:00:01\n",
      "   ------------------------------- -------- 6.3/8.0 MB 11.5 MB/s eta 0:00:01\n",
      "   --------------------------------- ------ 6.7/8.0 MB 11.5 MB/s eta 0:00:01\n",
      "   ----------------------------------- ---- 7.0/8.0 MB 11.0 MB/s eta 0:00:01\n",
      "   ------------------------------------- -- 7.5/8.0 MB 10.9 MB/s eta 0:00:01\n",
      "   ---------------------------------------  8.0/8.0 MB 11.3 MB/s eta 0:00:01\n",
      "   ---------------------------------------- 8.0/8.0 MB 10.6 MB/s eta 0:00:00\n",
      "Downloading contourpy-1.2.1-cp312-cp312-win_amd64.whl (189 kB)\n",
      "   ---------------------------------------- 0.0/189.9 kB ? eta -:--:--\n",
      "   --------------------------------------- 189.9/189.9 kB 11.2 MB/s eta 0:00:00\n",
      "Downloading cycler-0.12.1-py3-none-any.whl (8.3 kB)\n",
      "Downloading fonttools-4.53.1-cp312-cp312-win_amd64.whl (2.2 MB)\n",
      "   ---------------------------------------- 0.0/2.2 MB ? eta -:--:--\n",
      "   --- ------------------------------------ 0.2/2.2 MB ? eta -:--:--\n",
      "   ------------ --------------------------- 0.7/2.2 MB 8.7 MB/s eta 0:00:01\n",
      "   ------------------------ --------------- 1.3/2.2 MB 9.4 MB/s eta 0:00:01\n",
      "   ---------------------------------- ----- 1.9/2.2 MB 11.0 MB/s eta 0:00:01\n",
      "   ---------------------------------------  2.2/2.2 MB 10.7 MB/s eta 0:00:01\n",
      "   ---------------------------------------- 2.2/2.2 MB 9.3 MB/s eta 0:00:00\n",
      "Downloading kiwisolver-1.4.5-cp312-cp312-win_amd64.whl (56 kB)\n",
      "   ---------------------------------------- 0.0/56.0 kB ? eta -:--:--\n",
      "   ---------------------------------------- 56.0/56.0 kB 2.9 MB/s eta 0:00:00\n",
      "Downloading pillow-10.4.0-cp312-cp312-win_amd64.whl (2.6 MB)\n",
      "   ---------------------------------------- 0.0/2.6 MB ? eta -:--:--\n",
      "   ------- -------------------------------- 0.5/2.6 MB 13.8 MB/s eta 0:00:01\n",
      "   ----------- ---------------------------- 0.7/2.6 MB 9.5 MB/s eta 0:00:01\n",
      "   ---------------------- ----------------- 1.5/2.6 MB 11.6 MB/s eta 0:00:01\n",
      "   ---------------------------- ----------- 1.8/2.6 MB 10.5 MB/s eta 0:00:01\n",
      "   ------------------------------------- -- 2.4/2.6 MB 11.0 MB/s eta 0:00:01\n",
      "   ---------------------------------------- 2.6/2.6 MB 9.6 MB/s eta 0:00:00\n",
      "Downloading pyparsing-3.1.2-py3-none-any.whl (103 kB)\n",
      "   ---------------------------------------- 0.0/103.2 kB ? eta -:--:--\n",
      "   ---------------------------------------- 103.2/103.2 kB ? eta 0:00:00\n",
      "Installing collected packages: pyparsing, pillow, kiwisolver, fonttools, cycler, contourpy, matplotlib\n",
      "Successfully installed contourpy-1.2.1 cycler-0.12.1 fonttools-4.53.1 kiwisolver-1.4.5 matplotlib-3.9.1 pillow-10.4.0 pyparsing-3.1.2\n",
      "Note: you may need to restart the kernel to use updated packages.\n"
     ]
    }
   ],
   "source": [
    "pip install matplotlib\n"
   ]
  },
  {
   "cell_type": "code",
   "execution_count": 5,
   "id": "f692362c-2777-4b77-9a56-93f2a488a38d",
   "metadata": {},
   "outputs": [],
   "source": [
    "import pyspark\n",
    "import pandas as pd\n",
    "import numpy as np\n",
    "import matplotlib.pyplot as plt\n",
    "from pyspark.sql import SparkSession\n",
    "from pyspark.sql.types import * # to create a dataframe of a specific type\n",
    "from pyspark.sql.functions import * # importig SQL functions\n",
    "from pyspark.sql.window import Window\n",
    "     "
   ]
  },
  {
   "cell_type": "code",
   "execution_count": 8,
   "id": "64a1aaa6-94b2-4d6c-aef9-6ab22e05870f",
   "metadata": {},
   "outputs": [
    {
     "data": {
      "text/html": [
       "\n",
       "            <div>\n",
       "                <p><b>SparkSession - in-memory</b></p>\n",
       "                \n",
       "        <div>\n",
       "            <p><b>SparkContext</b></p>\n",
       "\n",
       "            <p><a href=\"http://Rajat:4040\">Spark UI</a></p>\n",
       "\n",
       "            <dl>\n",
       "              <dt>Version</dt>\n",
       "                <dd><code>v3.5.1</code></dd>\n",
       "              <dt>Master</dt>\n",
       "                <dd><code>local[*]</code></dd>\n",
       "              <dt>AppName</dt>\n",
       "                <dd><code>pyspark-shell</code></dd>\n",
       "            </dl>\n",
       "        </div>\n",
       "        \n",
       "            </div>\n",
       "        "
      ],
      "text/plain": [
       "<pyspark.sql.session.SparkSession at 0x2450ad8b680>"
      ]
     },
     "execution_count": 8,
     "metadata": {},
     "output_type": "execute_result"
    }
   ],
   "source": [
    "spark = SparkSession.builder.getOrCreate()\n",
    "spark"
   ]
  },
  {
   "cell_type": "code",
   "execution_count": 9,
   "id": "ac7e31a8-0c68-45a0-9e12-fa61cea922cf",
   "metadata": {},
   "outputs": [
    {
     "data": {
      "text/html": [
       "\n",
       "            <div>\n",
       "                <p><b>SparkSession - in-memory</b></p>\n",
       "                \n",
       "        <div>\n",
       "            <p><b>SparkContext</b></p>\n",
       "\n",
       "            <p><a href=\"http://Rajat:4040\">Spark UI</a></p>\n",
       "\n",
       "            <dl>\n",
       "              <dt>Version</dt>\n",
       "                <dd><code>v3.5.1</code></dd>\n",
       "              <dt>Master</dt>\n",
       "                <dd><code>local[*]</code></dd>\n",
       "              <dt>AppName</dt>\n",
       "                <dd><code>pyspark-shell</code></dd>\n",
       "            </dl>\n",
       "        </div>\n",
       "        \n",
       "            </div>\n",
       "        "
      ],
      "text/plain": [
       "<pyspark.sql.session.SparkSession at 0x2450ad8b680>"
      ]
     },
     "execution_count": 9,
     "metadata": {},
     "output_type": "execute_result"
    }
   ],
   "source": [
    "spark"
   ]
  },
  {
   "cell_type": "code",
   "execution_count": 11,
   "id": "1c9c9667-3a33-438a-bebf-201c9dde3f16",
   "metadata": {},
   "outputs": [],
   "source": [
    "data = spark.read.csv(\"OnlineRetail.csv\", inferSchema=True, header=True)"
   ]
  },
  {
   "cell_type": "code",
   "execution_count": 12,
   "id": "64f3ac05-0e52-4081-bea7-a1c8ff6f5da7",
   "metadata": {},
   "outputs": [
    {
     "name": "stdout",
     "output_type": "stream",
     "text": [
      "root\n",
      " |-- InvoiceNo: string (nullable = true)\n",
      " |-- StockCode: string (nullable = true)\n",
      " |-- Description: string (nullable = true)\n",
      " |-- Quantity: integer (nullable = true)\n",
      " |-- InvoiceDate: string (nullable = true)\n",
      " |-- UnitPrice: double (nullable = true)\n",
      " |-- CustomerID: integer (nullable = true)\n",
      " |-- Country: string (nullable = true)\n",
      "\n"
     ]
    }
   ],
   "source": [
    "data.printSchema()"
   ]
  },
  {
   "cell_type": "code",
   "execution_count": 13,
   "id": "c7a31914-1dd1-4656-bf64-63e4cb0fbec6",
   "metadata": {},
   "outputs": [
    {
     "data": {
      "text/plain": [
       "pyspark.sql.dataframe.DataFrame"
      ]
     },
     "execution_count": 13,
     "metadata": {},
     "output_type": "execute_result"
    }
   ],
   "source": [
    "type(data)"
   ]
  },
  {
   "cell_type": "code",
   "execution_count": 14,
   "id": "a2be86b3-af2e-453e-854e-8909d031eaf6",
   "metadata": {},
   "outputs": [
    {
     "name": "stdout",
     "output_type": "stream",
     "text": [
      "+---------+---------+--------------------+--------+--------------+---------+----------+--------------+\n",
      "|InvoiceNo|StockCode|         Description|Quantity|   InvoiceDate|UnitPrice|CustomerID|       Country|\n",
      "+---------+---------+--------------------+--------+--------------+---------+----------+--------------+\n",
      "|   536365|   85123A|WHITE HANGING HEA...|       6|12/1/2010 8:26|     2.55|     17850|United Kingdom|\n",
      "|   536365|    71053| WHITE METAL LANTERN|       6|12/1/2010 8:26|     3.39|     17850|United Kingdom|\n",
      "|   536365|   84406B|CREAM CUPID HEART...|       8|12/1/2010 8:26|     2.75|     17850|United Kingdom|\n",
      "|   536365|   84029G|KNITTED UNION FLA...|       6|12/1/2010 8:26|     3.39|     17850|United Kingdom|\n",
      "|   536365|   84029E|RED WOOLLY HOTTIE...|       6|12/1/2010 8:26|     3.39|     17850|United Kingdom|\n",
      "+---------+---------+--------------------+--------+--------------+---------+----------+--------------+\n",
      "only showing top 5 rows\n",
      "\n"
     ]
    }
   ],
   "source": [
    "data.show(5)"
   ]
  },
  {
   "cell_type": "code",
   "execution_count": 15,
   "id": "51df573a-38e3-4d1f-9d34-7ae8c16207f1",
   "metadata": {},
   "outputs": [
    {
     "data": {
      "text/plain": [
       "(541909, 8)"
      ]
     },
     "execution_count": 15,
     "metadata": {},
     "output_type": "execute_result"
    }
   ],
   "source": [
    "data.toPandas().shape"
   ]
  },
  {
   "cell_type": "code",
   "execution_count": 16,
   "id": "f970cab2-a99f-4719-9541-3d3432f0d3ad",
   "metadata": {},
   "outputs": [
    {
     "name": "stdout",
     "output_type": "stream",
     "text": [
      "+-------+-----------------+------------------+--------------------+-----------------+---------------+-----------------+------------------+-----------+\n",
      "|summary|        InvoiceNo|         StockCode|         Description|         Quantity|    InvoiceDate|        UnitPrice|        CustomerID|    Country|\n",
      "+-------+-----------------+------------------+--------------------+-----------------+---------------+-----------------+------------------+-----------+\n",
      "|  count|           541909|            541909|              540455|           541909|         541909|           541909|            406829|     541909|\n",
      "|   mean| 559965.752026781|27623.240210938104|             20713.0| 9.55224954743324|           NULL| 4.61111362608971|15287.690570239585|       NULL|\n",
      "| stddev|13428.41728079582|16799.737628427672|                NULL|218.0811578502344|           NULL|96.75985306117953|1713.6003033215968|       NULL|\n",
      "|    min|           536365|             10002| 4 PURPLE FLOCK D...|           -80995|1/10/2011 10:04|        -11062.06|             12346|  Australia|\n",
      "|    max|          C581569|                 m|   wrongly sold sets|            80995|  9/9/2011 9:52|          38970.0|             18287|Unspecified|\n",
      "+-------+-----------------+------------------+--------------------+-----------------+---------------+-----------------+------------------+-----------+\n",
      "\n"
     ]
    }
   ],
   "source": [
    "data.describe().show()"
   ]
  },
  {
   "cell_type": "code",
   "execution_count": 17,
   "id": "252ba82f-c3f5-4931-a75c-e599e6a7872c",
   "metadata": {},
   "outputs": [
    {
     "name": "stdout",
     "output_type": "stream",
     "text": [
      "+---------+---------+-----------+--------+-----------+---------+----------+-------+\n",
      "|InvoiceNo|StockCode|Description|Quantity|InvoiceDate|UnitPrice|CustomerID|Country|\n",
      "+---------+---------+-----------+--------+-----------+---------+----------+-------+\n",
      "|        0|        0|       1454|       0|          0|        0|    135080|      0|\n",
      "+---------+---------+-----------+--------+-----------+---------+----------+-------+\n",
      "\n"
     ]
    }
   ],
   "source": [
    "data.select([count(when(isnan(c) | col(c).isNull(), c)).alias(c) for c in data.columns]).show()"
   ]
  },
  {
   "cell_type": "code",
   "execution_count": 18,
   "id": "59c7c135-20e6-42a2-a034-b4bd4829b46d",
   "metadata": {},
   "outputs": [
    {
     "name": "stdout",
     "output_type": "stream",
     "text": [
      "+--------------+------+\n",
      "|       Country| count|\n",
      "+--------------+------+\n",
      "|United Kingdom|495478|\n",
      "|       Germany|  9495|\n",
      "|        France|  8557|\n",
      "|          EIRE|  8196|\n",
      "|         Spain|  2533|\n",
      "|   Netherlands|  2371|\n",
      "|       Belgium|  2069|\n",
      "|   Switzerland|  2002|\n",
      "|      Portugal|  1519|\n",
      "|     Australia|  1259|\n",
      "+--------------+------+\n",
      "only showing top 10 rows\n",
      "\n"
     ]
    }
   ],
   "source": [
    "data.groupBy(\"Country\").count().sort(\"count\", ascending=False).show(10)"
   ]
  },
  {
   "cell_type": "code",
   "execution_count": 19,
   "id": "0e7f96ec-5933-4d53-9fa2-cbfb7f24f880",
   "metadata": {},
   "outputs": [
    {
     "name": "stdout",
     "output_type": "stream",
     "text": [
      "+--------------+-----+-----+------------------+\n",
      "|       Country|Count|Total|                 %|\n",
      "+--------------+-----+-----+------------------+\n",
      "|United Kingdom| 3950| 4380| 90.18264840182648|\n",
      "|       Germany|   95| 4380|2.1689497716894977|\n",
      "|        France|   87| 4380|1.9863013698630139|\n",
      "|         Spain|   31| 4380|0.7077625570776256|\n",
      "|       Belgium|   25| 4380|0.5707762557077625|\n",
      "+--------------+-----+-----+------------------+\n",
      "only showing top 5 rows\n",
      "\n"
     ]
    }
   ],
   "source": [
    "# Customer distribution by country\n",
    "\n",
    "rtl_data = data[\"Country\", \"CustomerID\"].distinct().groupBy(\"Country\").agg(count\n",
    "          (\"CustomerID\").alias(\"Count\")).withColumn('Total', sum('Count').over\n",
    "          (Window.partitionBy())).withColumn('%', (col('Count')/col('Total'))*100).sort(\"Count\", ascending=False)\n",
    "rtl_data.show(5)"
   ]
  },
  {
   "cell_type": "code",
   "execution_count": 20,
   "id": "cec0c440-9c76-40d4-9d97-f959a062f733",
   "metadata": {},
   "outputs": [
    {
     "name": "stdout",
     "output_type": "stream",
     "text": [
      "(361878, 8)\n",
      "+---------+---------+--------------------+--------+--------------+---------+----------+--------------+\n",
      "|InvoiceNo|StockCode|         Description|Quantity|   InvoiceDate|UnitPrice|CustomerID|       Country|\n",
      "+---------+---------+--------------------+--------+--------------+---------+----------+--------------+\n",
      "|   536365|   85123A|WHITE HANGING HEA...|       6|12/1/2010 8:26|     2.55|     17850|United Kingdom|\n",
      "|   536365|    71053| WHITE METAL LANTERN|       6|12/1/2010 8:26|     3.39|     17850|United Kingdom|\n",
      "|   536365|   84406B|CREAM CUPID HEART...|       8|12/1/2010 8:26|     2.75|     17850|United Kingdom|\n",
      "|   536365|   84029G|KNITTED UNION FLA...|       6|12/1/2010 8:26|     3.39|     17850|United Kingdom|\n",
      "|   536365|   84029E|RED WOOLLY HOTTIE...|       6|12/1/2010 8:26|     3.39|     17850|United Kingdom|\n",
      "+---------+---------+--------------------+--------+--------------+---------+----------+--------------+\n",
      "only showing top 5 rows\n",
      "\n",
      "+-------+------------------+------------------+--------------------+------------------+---------------+------------------+------------------+--------------+\n",
      "|summary|         InvoiceNo|         StockCode|         Description|          Quantity|    InvoiceDate|         UnitPrice|        CustomerID|       Country|\n",
      "+-------+------------------+------------------+--------------------+------------------+---------------+------------------+------------------+--------------+\n",
      "|  count|            361878|            361878|              361878|            361878|         361878|            361878|            361878|        361878|\n",
      "|   mean|   560672.61234108|27661.093939094237|                NULL|11.077028722387103|           NULL|3.2560068973521874|15547.871368251179|          NULL|\n",
      "| stddev|13168.988616040388|16738.542340466665|                NULL| 263.1292655989743|           NULL| 70.65473116893897|1594.4025904479627|          NULL|\n",
      "|    min|            536365|             10002| 4 PURPLE FLOCK D...|            -80995|1/10/2011 10:32|               0.0|             12346|United Kingdom|\n",
      "|    max|           C581569|              POST|ZINC WIRE SWEETHE...|             80995|  9/9/2011 9:52|           38970.0|             18287|United Kingdom|\n",
      "+-------+------------------+------------------+--------------------+------------------+---------------+------------------+------------------+--------------+\n",
      "\n"
     ]
    }
   ],
   "source": [
    "# customers from UK\n",
    "rtl_data = data.filter(col(\"Country\") == \"United Kingdom\")\n",
    "\n",
    "rtl_data = rtl_data.filter(col(\"CustomerID\").isNotNull())\n",
    "\n",
    "print(rtl_data.toPandas().shape)\n",
    "rtl_data.show(5)\n",
    "rtl_data.describe().show()"
   ]
  },
  {
   "cell_type": "code",
   "execution_count": 21,
   "id": "54319d8b-541e-4d6a-ab77-01d9ce3ab109",
   "metadata": {},
   "outputs": [
    {
     "name": "stdout",
     "output_type": "stream",
     "text": [
      "+---------+---------+-----------+--------+-----------+---------+----------+-------+\n",
      "|InvoiceNo|StockCode|Description|Quantity|InvoiceDate|UnitPrice|CustomerID|Country|\n",
      "+---------+---------+-----------+--------+-----------+---------+----------+-------+\n",
      "|        0|        0|          0|       0|          0|        0|         0|      0|\n",
      "+---------+---------+-----------+--------+-----------+---------+----------+-------+\n",
      "\n"
     ]
    }
   ],
   "source": [
    "rtl_data.select([count(when(isnan(c) | col(c).isNull(), c)).alias(c) for c in rtl_data.columns]).show()"
   ]
  },
  {
   "cell_type": "code",
   "execution_count": 22,
   "id": "35ec8516-c7ae-45ea-bb42-5282481c590a",
   "metadata": {},
   "outputs": [
    {
     "name": "stdout",
     "output_type": "stream",
     "text": [
      "root\n",
      " |-- InvoiceNo: string (nullable = true)\n",
      " |-- StockCode: string (nullable = true)\n",
      " |-- Description: string (nullable = true)\n",
      " |-- Quantity: integer (nullable = true)\n",
      " |-- InvoiceDate: string (nullable = true)\n",
      " |-- UnitPrice: double (nullable = true)\n",
      " |-- CustomerID: integer (nullable = true)\n",
      " |-- Country: string (nullable = true)\n",
      "\n"
     ]
    }
   ],
   "source": [
    "rtl_data.printSchema()"
   ]
  },
  {
   "cell_type": "code",
   "execution_count": 23,
   "id": "f86f2317-a6b3-497c-8b3b-64e096da9344",
   "metadata": {},
   "outputs": [],
   "source": [
    "# To remove negative Quantities\n",
    "rtl_data = rtl_data.filter(col(\"Quantity\") > 0)\n",
    "# Total Amount column\n",
    "rtl_data = rtl_data.withColumn(\"TotalAmount\", round(col(\"Quantity\") * col(\"UnitPrice\")))\n",
    "     "
   ]
  },
  {
   "cell_type": "code",
   "execution_count": 24,
   "id": "3679208e-4197-4502-a951-dc94c8ceb9ab",
   "metadata": {},
   "outputs": [
    {
     "data": {
      "text/html": [
       "<div>\n",
       "<style scoped>\n",
       "    .dataframe tbody tr th:only-of-type {\n",
       "        vertical-align: middle;\n",
       "    }\n",
       "\n",
       "    .dataframe tbody tr th {\n",
       "        vertical-align: top;\n",
       "    }\n",
       "\n",
       "    .dataframe thead th {\n",
       "        text-align: right;\n",
       "    }\n",
       "</style>\n",
       "<table border=\"1\" class=\"dataframe\">\n",
       "  <thead>\n",
       "    <tr style=\"text-align: right;\">\n",
       "      <th></th>\n",
       "      <th>InvoiceNo</th>\n",
       "      <th>StockCode</th>\n",
       "      <th>Description</th>\n",
       "      <th>Quantity</th>\n",
       "      <th>InvoiceDate</th>\n",
       "      <th>UnitPrice</th>\n",
       "      <th>CustomerID</th>\n",
       "      <th>Country</th>\n",
       "      <th>TotalAmount</th>\n",
       "    </tr>\n",
       "  </thead>\n",
       "  <tbody>\n",
       "    <tr>\n",
       "      <th>0</th>\n",
       "      <td>536365</td>\n",
       "      <td>85123A</td>\n",
       "      <td>WHITE HANGING HEART T-LIGHT HOLDER</td>\n",
       "      <td>6</td>\n",
       "      <td>12/1/2010 8:26</td>\n",
       "      <td>2.55</td>\n",
       "      <td>17850</td>\n",
       "      <td>United Kingdom</td>\n",
       "      <td>15.0</td>\n",
       "    </tr>\n",
       "    <tr>\n",
       "      <th>1</th>\n",
       "      <td>536365</td>\n",
       "      <td>71053</td>\n",
       "      <td>WHITE METAL LANTERN</td>\n",
       "      <td>6</td>\n",
       "      <td>12/1/2010 8:26</td>\n",
       "      <td>3.39</td>\n",
       "      <td>17850</td>\n",
       "      <td>United Kingdom</td>\n",
       "      <td>20.0</td>\n",
       "    </tr>\n",
       "    <tr>\n",
       "      <th>2</th>\n",
       "      <td>536365</td>\n",
       "      <td>84406B</td>\n",
       "      <td>CREAM CUPID HEARTS COAT HANGER</td>\n",
       "      <td>8</td>\n",
       "      <td>12/1/2010 8:26</td>\n",
       "      <td>2.75</td>\n",
       "      <td>17850</td>\n",
       "      <td>United Kingdom</td>\n",
       "      <td>22.0</td>\n",
       "    </tr>\n",
       "    <tr>\n",
       "      <th>3</th>\n",
       "      <td>536365</td>\n",
       "      <td>84029G</td>\n",
       "      <td>KNITTED UNION FLAG HOT WATER BOTTLE</td>\n",
       "      <td>6</td>\n",
       "      <td>12/1/2010 8:26</td>\n",
       "      <td>3.39</td>\n",
       "      <td>17850</td>\n",
       "      <td>United Kingdom</td>\n",
       "      <td>20.0</td>\n",
       "    </tr>\n",
       "    <tr>\n",
       "      <th>4</th>\n",
       "      <td>536365</td>\n",
       "      <td>84029E</td>\n",
       "      <td>RED WOOLLY HOTTIE WHITE HEART.</td>\n",
       "      <td>6</td>\n",
       "      <td>12/1/2010 8:26</td>\n",
       "      <td>3.39</td>\n",
       "      <td>17850</td>\n",
       "      <td>United Kingdom</td>\n",
       "      <td>20.0</td>\n",
       "    </tr>\n",
       "  </tbody>\n",
       "</table>\n",
       "</div>"
      ],
      "text/plain": [
       "  InvoiceNo StockCode                          Description  Quantity  \\\n",
       "0    536365    85123A   WHITE HANGING HEART T-LIGHT HOLDER         6   \n",
       "1    536365     71053                  WHITE METAL LANTERN         6   \n",
       "2    536365    84406B       CREAM CUPID HEARTS COAT HANGER         8   \n",
       "3    536365    84029G  KNITTED UNION FLAG HOT WATER BOTTLE         6   \n",
       "4    536365    84029E       RED WOOLLY HOTTIE WHITE HEART.         6   \n",
       "\n",
       "      InvoiceDate  UnitPrice  CustomerID         Country  TotalAmount  \n",
       "0  12/1/2010 8:26       2.55       17850  United Kingdom         15.0  \n",
       "1  12/1/2010 8:26       3.39       17850  United Kingdom         20.0  \n",
       "2  12/1/2010 8:26       2.75       17850  United Kingdom         22.0  \n",
       "3  12/1/2010 8:26       3.39       17850  United Kingdom         20.0  \n",
       "4  12/1/2010 8:26       3.39       17850  United Kingdom         20.0  "
      ]
     },
     "execution_count": 24,
     "metadata": {},
     "output_type": "execute_result"
    }
   ],
   "source": [
    "rtl_data.limit(5).toPandas()"
   ]
  },
  {
   "cell_type": "code",
   "execution_count": 25,
   "id": "5c2843e4-16d8-46e8-b0f0-0692da3fe30b",
   "metadata": {},
   "outputs": [
    {
     "name": "stdout",
     "output_type": "stream",
     "text": [
      "+---------+---------+--------------------+--------+---------------+---------+----------+--------------+-----------+\n",
      "|InvoiceNo|StockCode|         Description|Quantity|    InvoiceDate|UnitPrice|CustomerID|       Country|TotalAmount|\n",
      "+---------+---------+--------------------+--------+---------------+---------+----------+--------------+-----------+\n",
      "|   536365|   85123A|WHITE HANGING HEA...|       6| 12/1/2010 8:26|     2.55|     17850|United Kingdom|       15.0|\n",
      "|   536373|   85123A|WHITE HANGING HEA...|       6| 12/1/2010 9:02|     2.55|     17850|United Kingdom|       15.0|\n",
      "|   536375|   85123A|WHITE HANGING HEA...|       6| 12/1/2010 9:32|     2.55|     17850|United Kingdom|       15.0|\n",
      "|   536390|   85123A|WHITE HANGING HEA...|      64|12/1/2010 10:19|     2.55|     17511|United Kingdom|      163.0|\n",
      "|   536394|   85123A|WHITE HANGING HEA...|      32|12/1/2010 10:39|     2.55|     13408|United Kingdom|       82.0|\n",
      "+---------+---------+--------------------+--------+---------------+---------+----------+--------------+-----------+\n",
      "\n"
     ]
    }
   ],
   "source": [
    "rtl_data[rtl_data.Description.isin('WHITE HANGING HEART T-LIGHT HOLDER')].limit(5).show()"
   ]
  },
  {
   "cell_type": "code",
   "execution_count": 26,
   "id": "7a83803f-f99c-4d5f-820f-2be716ad40df",
   "metadata": {},
   "outputs": [
    {
     "name": "stdout",
     "output_type": "stream",
     "text": [
      "+---------+---------+--------------------+--------+--------------+---------+----------+--------------+-----------+\n",
      "|InvoiceNo|StockCode|         Description|Quantity|   InvoiceDate|UnitPrice|CustomerID|       Country|TotalAmount|\n",
      "+---------+---------+--------------------+--------+--------------+---------+----------+--------------+-----------+\n",
      "|   536365|   85123A|WHITE HANGING HEA...|       6|12/1/2010 8:26|     2.55|     17850|United Kingdom|       15.0|\n",
      "|   536365|    71053| WHITE METAL LANTERN|       6|12/1/2010 8:26|     3.39|     17850|United Kingdom|       20.0|\n",
      "|   536365|   84029E|RED WOOLLY HOTTIE...|       6|12/1/2010 8:26|     3.39|     17850|United Kingdom|       20.0|\n",
      "|   536373|   85123A|WHITE HANGING HEA...|       6|12/1/2010 9:02|     2.55|     17850|United Kingdom|       15.0|\n",
      "|   536373|    71053| WHITE METAL LANTERN|       6|12/1/2010 9:02|     3.39|     17850|United Kingdom|       20.0|\n",
      "+---------+---------+--------------------+--------+--------------+---------+----------+--------------+-----------+\n",
      "only showing top 5 rows\n",
      "\n"
     ]
    }
   ],
   "source": [
    "rtl_data[rtl_data.Description.like('%WHITE%')].show(5)"
   ]
  },
  {
   "cell_type": "code",
   "execution_count": 27,
   "id": "05b743ce-5e7d-4d5a-b83a-c4ab808d863a",
   "metadata": {},
   "outputs": [
    {
     "name": "stdout",
     "output_type": "stream",
     "text": [
      "+---------+---------+--------------------+--------+---------------+---------+----------+--------------+-----------+\n",
      "|InvoiceNo|StockCode|         Description|Quantity|    InvoiceDate|UnitPrice|CustomerID|       Country|TotalAmount|\n",
      "+---------+---------+--------------------+--------+---------------+---------+----------+--------------+-----------+\n",
      "|   541431|    23166|MEDIUM CERAMIC TO...|   74215|1/18/2011 10:01|     1.04|     12346|United Kingdom|    77184.0|\n",
      "|   581483|    23843|PAPER CRAFT , LIT...|   80995| 12/9/2011 9:15|     2.08|     16446|United Kingdom|   168470.0|\n",
      "+---------+---------+--------------------+--------+---------------+---------+----------+--------------+-----------+\n",
      "\n"
     ]
    }
   ],
   "source": [
    "rtl_data.filter(rtl_data.Quantity > 50000).show()"
   ]
  },
  {
   "cell_type": "code",
   "execution_count": 28,
   "id": "e0132347-9d2a-4a14-9ee1-9187dbcc6ba3",
   "metadata": {},
   "outputs": [],
   "source": [
    "df = rtl_data.toPandas()"
   ]
  },
  {
   "cell_type": "code",
   "execution_count": 29,
   "id": "e202774e-4c5d-4c17-a2e4-49b34e8dadf5",
   "metadata": {},
   "outputs": [
    {
     "name": "stdout",
     "output_type": "stream",
     "text": [
      "1/10/2011 10:32\n",
      "9/9/2011 9:52\n"
     ]
    }
   ],
   "source": [
    "print(df.InvoiceDate.min())\n",
    "print(df.InvoiceDate.max())"
   ]
  },
  {
   "cell_type": "code",
   "execution_count": 30,
   "id": "f3b624dd-49ff-49a7-a067-2681b09be6fe",
   "metadata": {},
   "outputs": [],
   "source": [
    "df[\"InvoiceDate\"] = pd.to_datetime(df[\"InvoiceDate\"])"
   ]
  },
  {
   "cell_type": "code",
   "execution_count": 31,
   "id": "47beb6c0-4e27-4197-98ca-e990cd758be3",
   "metadata": {},
   "outputs": [
    {
     "data": {
      "text/html": [
       "<div>\n",
       "<style scoped>\n",
       "    .dataframe tbody tr th:only-of-type {\n",
       "        vertical-align: middle;\n",
       "    }\n",
       "\n",
       "    .dataframe tbody tr th {\n",
       "        vertical-align: top;\n",
       "    }\n",
       "\n",
       "    .dataframe thead th {\n",
       "        text-align: right;\n",
       "    }\n",
       "</style>\n",
       "<table border=\"1\" class=\"dataframe\">\n",
       "  <thead>\n",
       "    <tr style=\"text-align: right;\">\n",
       "      <th></th>\n",
       "      <th>CustomerID</th>\n",
       "      <th>TotalAmount</th>\n",
       "    </tr>\n",
       "  </thead>\n",
       "  <tbody>\n",
       "    <tr>\n",
       "      <th>0</th>\n",
       "      <td>12346</td>\n",
       "      <td>77184.0</td>\n",
       "    </tr>\n",
       "    <tr>\n",
       "      <th>1</th>\n",
       "      <td>12747</td>\n",
       "      <td>4207.0</td>\n",
       "    </tr>\n",
       "    <tr>\n",
       "      <th>2</th>\n",
       "      <td>12748</td>\n",
       "      <td>33956.0</td>\n",
       "    </tr>\n",
       "    <tr>\n",
       "      <th>3</th>\n",
       "      <td>12749</td>\n",
       "      <td>4115.0</td>\n",
       "    </tr>\n",
       "    <tr>\n",
       "      <th>4</th>\n",
       "      <td>12820</td>\n",
       "      <td>946.0</td>\n",
       "    </tr>\n",
       "  </tbody>\n",
       "</table>\n",
       "</div>"
      ],
      "text/plain": [
       "   CustomerID  TotalAmount\n",
       "0       12346      77184.0\n",
       "1       12747       4207.0\n",
       "2       12748      33956.0\n",
       "3       12749       4115.0\n",
       "4       12820        946.0"
      ]
     },
     "execution_count": 31,
     "metadata": {},
     "output_type": "execute_result"
    }
   ],
   "source": [
    "# calculating the monetary values\n",
    "monetary =df.groupby(\"CustomerID\").TotalAmount.sum()\n",
    "monetary = monetary.reset_index() \n",
    "monetary.head()"
   ]
  },
  {
   "cell_type": "code",
   "execution_count": 32,
   "id": "8c329695-a31c-4fce-88b9-d456a1df785e",
   "metadata": {},
   "outputs": [
    {
     "data": {
      "text/html": [
       "<div>\n",
       "<style scoped>\n",
       "    .dataframe tbody tr th:only-of-type {\n",
       "        vertical-align: middle;\n",
       "    }\n",
       "\n",
       "    .dataframe tbody tr th {\n",
       "        vertical-align: top;\n",
       "    }\n",
       "\n",
       "    .dataframe thead th {\n",
       "        text-align: right;\n",
       "    }\n",
       "</style>\n",
       "<table border=\"1\" class=\"dataframe\">\n",
       "  <thead>\n",
       "    <tr style=\"text-align: right;\">\n",
       "      <th></th>\n",
       "      <th>CustomerID</th>\n",
       "      <th>InvoiceNo</th>\n",
       "    </tr>\n",
       "  </thead>\n",
       "  <tbody>\n",
       "    <tr>\n",
       "      <th>0</th>\n",
       "      <td>12346</td>\n",
       "      <td>1</td>\n",
       "    </tr>\n",
       "    <tr>\n",
       "      <th>1</th>\n",
       "      <td>12747</td>\n",
       "      <td>103</td>\n",
       "    </tr>\n",
       "    <tr>\n",
       "      <th>2</th>\n",
       "      <td>12748</td>\n",
       "      <td>4596</td>\n",
       "    </tr>\n",
       "    <tr>\n",
       "      <th>3</th>\n",
       "      <td>12749</td>\n",
       "      <td>199</td>\n",
       "    </tr>\n",
       "    <tr>\n",
       "      <th>4</th>\n",
       "      <td>12820</td>\n",
       "      <td>59</td>\n",
       "    </tr>\n",
       "  </tbody>\n",
       "</table>\n",
       "</div>"
      ],
      "text/plain": [
       "   CustomerID  InvoiceNo\n",
       "0       12346          1\n",
       "1       12747        103\n",
       "2       12748       4596\n",
       "3       12749        199\n",
       "4       12820         59"
      ]
     },
     "execution_count": 32,
     "metadata": {},
     "output_type": "execute_result"
    }
   ],
   "source": [
    "# calculating the frequency values\n",
    "frequency=df.groupby(\"CustomerID\").InvoiceNo.count()\n",
    "frequency = frequency.reset_index()\n",
    "frequency.head()"
   ]
  },
  {
   "cell_type": "code",
   "execution_count": 33,
   "id": "7c25ba3a-1364-4dca-893b-79eca023d528",
   "metadata": {},
   "outputs": [
    {
     "data": {
      "text/html": [
       "<div>\n",
       "<style scoped>\n",
       "    .dataframe tbody tr th:only-of-type {\n",
       "        vertical-align: middle;\n",
       "    }\n",
       "\n",
       "    .dataframe tbody tr th {\n",
       "        vertical-align: top;\n",
       "    }\n",
       "\n",
       "    .dataframe thead th {\n",
       "        text-align: right;\n",
       "    }\n",
       "</style>\n",
       "<table border=\"1\" class=\"dataframe\">\n",
       "  <thead>\n",
       "    <tr style=\"text-align: right;\">\n",
       "      <th></th>\n",
       "      <th>CustomerID</th>\n",
       "      <th>Diff</th>\n",
       "    </tr>\n",
       "  </thead>\n",
       "  <tbody>\n",
       "    <tr>\n",
       "      <th>0</th>\n",
       "      <td>12346</td>\n",
       "      <td>326 days 02:48:00</td>\n",
       "    </tr>\n",
       "    <tr>\n",
       "      <th>1</th>\n",
       "      <td>12747</td>\n",
       "      <td>2 days 22:15:00</td>\n",
       "    </tr>\n",
       "    <tr>\n",
       "      <th>2</th>\n",
       "      <td>12748</td>\n",
       "      <td>1 days 00:29:00</td>\n",
       "    </tr>\n",
       "    <tr>\n",
       "      <th>3</th>\n",
       "      <td>12749</td>\n",
       "      <td>4 days 02:53:00</td>\n",
       "    </tr>\n",
       "    <tr>\n",
       "      <th>4</th>\n",
       "      <td>12820</td>\n",
       "      <td>3 days 21:37:00</td>\n",
       "    </tr>\n",
       "  </tbody>\n",
       "</table>\n",
       "</div>"
      ],
      "text/plain": [
       "   CustomerID              Diff\n",
       "0       12346 326 days 02:48:00\n",
       "1       12747   2 days 22:15:00\n",
       "2       12748   1 days 00:29:00\n",
       "3       12749   4 days 02:53:00\n",
       "4       12820   3 days 21:37:00"
      ]
     },
     "execution_count": 33,
     "metadata": {},
     "output_type": "execute_result"
    }
   ],
   "source": [
    "#calculating our recency value\n",
    "LastDate=df.InvoiceDate.max() #calculating the last date of InvoiceDate\n",
    "LastDate = LastDate + pd.DateOffset(days=1)\n",
    "df[\"Diff\"] = LastDate - df.InvoiceDate\n",
    "recency = df.groupby(\"CustomerID\").Diff.min()\n",
    "recency = recency.reset_index()\n",
    "recency.head()"
   ]
  },
  {
   "cell_type": "code",
   "execution_count": 34,
   "id": "a3d45839-e635-4ff1-85e2-8d6f91eb0fb8",
   "metadata": {},
   "outputs": [
    {
     "data": {
      "text/html": [
       "<div>\n",
       "<style scoped>\n",
       "    .dataframe tbody tr th:only-of-type {\n",
       "        vertical-align: middle;\n",
       "    }\n",
       "\n",
       "    .dataframe tbody tr th {\n",
       "        vertical-align: top;\n",
       "    }\n",
       "\n",
       "    .dataframe thead th {\n",
       "        text-align: right;\n",
       "    }\n",
       "</style>\n",
       "<table border=\"1\" class=\"dataframe\">\n",
       "  <thead>\n",
       "    <tr style=\"text-align: right;\">\n",
       "      <th></th>\n",
       "      <th>Monetary</th>\n",
       "      <th>Frequence</th>\n",
       "      <th>Recency</th>\n",
       "    </tr>\n",
       "  </thead>\n",
       "  <tbody>\n",
       "    <tr>\n",
       "      <th>0</th>\n",
       "      <td>77184.0</td>\n",
       "      <td>1</td>\n",
       "      <td>326</td>\n",
       "    </tr>\n",
       "    <tr>\n",
       "      <th>1</th>\n",
       "      <td>4207.0</td>\n",
       "      <td>103</td>\n",
       "      <td>2</td>\n",
       "    </tr>\n",
       "    <tr>\n",
       "      <th>2</th>\n",
       "      <td>33956.0</td>\n",
       "      <td>4596</td>\n",
       "      <td>1</td>\n",
       "    </tr>\n",
       "    <tr>\n",
       "      <th>3</th>\n",
       "      <td>4115.0</td>\n",
       "      <td>199</td>\n",
       "      <td>4</td>\n",
       "    </tr>\n",
       "    <tr>\n",
       "      <th>4</th>\n",
       "      <td>946.0</td>\n",
       "      <td>59</td>\n",
       "      <td>3</td>\n",
       "    </tr>\n",
       "  </tbody>\n",
       "</table>\n",
       "</div>"
      ],
      "text/plain": [
       "   Monetary  Frequence  Recency\n",
       "0   77184.0          1      326\n",
       "1    4207.0        103        2\n",
       "2   33956.0       4596        1\n",
       "3    4115.0        199        4\n",
       "4     946.0         59        3"
      ]
     },
     "execution_count": 34,
     "metadata": {},
     "output_type": "execute_result"
    }
   ],
   "source": [
    "rmf = monetary.merge(frequency, on = \"CustomerID\")\n",
    "rmf = rmf.merge(recency, on = \"CustomerID\")\n",
    "rmf.columns = [\"CustomerID\", \"Monetary\", \"Frequence\", \"Recency\"]\n",
    "RMF1 = rmf.drop(\"CustomerID\",axis =1) #dropping customer id and storing it into RMF1\n",
    "RMF1.Recency = RMF1.Recency.dt.days\n",
    "RMF1.head()"
   ]
  },
  {
   "cell_type": "code",
   "execution_count": 35,
   "id": "cce43aa4-1a68-470d-bb1f-c96c2e01beb2",
   "metadata": {},
   "outputs": [],
   "source": [
    "from pyspark.ml.clustering import KMeans\n",
    "from pyspark.ml.feature import VectorAssembler\n",
    "from pyspark.ml.feature import StandardScaler\n",
    "from pyspark.ml.evaluation import ClusteringEvaluator"
   ]
  },
  {
   "cell_type": "code",
   "execution_count": 37,
   "id": "88f168be-6190-4af6-89ad-5357a314a0bc",
   "metadata": {},
   "outputs": [],
   "source": [
    "rfm_numbers = spark.read.csv(\"customer_rfm_numbers.csv\", inferSchema=True, header=True)"
   ]
  },
  {
   "cell_type": "code",
   "execution_count": 38,
   "id": "6e53b0d4-d677-44db-9332-1481bb37e040",
   "metadata": {},
   "outputs": [
    {
     "name": "stdout",
     "output_type": "stream",
     "text": [
      "+----------+-------+---------+--------+\n",
      "|CustomerID|Recency|Frequency|Monetary|\n",
      "+----------+-------+---------+--------+\n",
      "|     15619|     11|        1|     337|\n",
      "|     17389|      1|        3|    3389|\n",
      "|   2884871|    171|        5|    1122|\n",
      "|    394781|     81|        6|      98|\n",
      "|     98132|     17|        2|    3747|\n",
      "+----------+-------+---------+--------+\n",
      "only showing top 5 rows\n",
      "\n"
     ]
    }
   ],
   "source": [
    "rfm_numbers.show(5)"
   ]
  },
  {
   "cell_type": "code",
   "execution_count": 39,
   "id": "062fed24-8ed6-4d11-b935-3ade1f3ef9e0",
   "metadata": {},
   "outputs": [],
   "source": [
    "rfm_numbers_df = rfm_numbers.toPandas()"
   ]
  },
  {
   "cell_type": "code",
   "execution_count": 41,
   "id": "8d3c234d-cafc-475c-a20b-879ff6e90e4d",
   "metadata": {},
   "outputs": [
    {
     "name": "stdout",
     "output_type": "stream",
     "text": [
      "Collecting seaborn\n",
      "  Downloading seaborn-0.13.2-py3-none-any.whl.metadata (5.4 kB)\n",
      "Requirement already satisfied: numpy!=1.24.0,>=1.20 in c:\\users\\rajat\\miniconda3\\envs\\pyspark\\lib\\site-packages (from seaborn) (2.0.0)\n",
      "Requirement already satisfied: pandas>=1.2 in c:\\users\\rajat\\miniconda3\\envs\\pyspark\\lib\\site-packages (from seaborn) (2.2.2)\n",
      "Requirement already satisfied: matplotlib!=3.6.1,>=3.4 in c:\\users\\rajat\\miniconda3\\envs\\pyspark\\lib\\site-packages (from seaborn) (3.9.1)\n",
      "Requirement already satisfied: contourpy>=1.0.1 in c:\\users\\rajat\\miniconda3\\envs\\pyspark\\lib\\site-packages (from matplotlib!=3.6.1,>=3.4->seaborn) (1.2.1)\n",
      "Requirement already satisfied: cycler>=0.10 in c:\\users\\rajat\\miniconda3\\envs\\pyspark\\lib\\site-packages (from matplotlib!=3.6.1,>=3.4->seaborn) (0.12.1)\n",
      "Requirement already satisfied: fonttools>=4.22.0 in c:\\users\\rajat\\miniconda3\\envs\\pyspark\\lib\\site-packages (from matplotlib!=3.6.1,>=3.4->seaborn) (4.53.1)\n",
      "Requirement already satisfied: kiwisolver>=1.3.1 in c:\\users\\rajat\\miniconda3\\envs\\pyspark\\lib\\site-packages (from matplotlib!=3.6.1,>=3.4->seaborn) (1.4.5)\n",
      "Requirement already satisfied: packaging>=20.0 in c:\\users\\rajat\\miniconda3\\envs\\pyspark\\lib\\site-packages (from matplotlib!=3.6.1,>=3.4->seaborn) (24.1)\n",
      "Requirement already satisfied: pillow>=8 in c:\\users\\rajat\\miniconda3\\envs\\pyspark\\lib\\site-packages (from matplotlib!=3.6.1,>=3.4->seaborn) (10.4.0)\n",
      "Requirement already satisfied: pyparsing>=2.3.1 in c:\\users\\rajat\\miniconda3\\envs\\pyspark\\lib\\site-packages (from matplotlib!=3.6.1,>=3.4->seaborn) (3.1.2)\n",
      "Requirement already satisfied: python-dateutil>=2.7 in c:\\users\\rajat\\miniconda3\\envs\\pyspark\\lib\\site-packages (from matplotlib!=3.6.1,>=3.4->seaborn) (2.9.0.post0)\n",
      "Requirement already satisfied: pytz>=2020.1 in c:\\users\\rajat\\miniconda3\\envs\\pyspark\\lib\\site-packages (from pandas>=1.2->seaborn) (2024.1)\n",
      "Requirement already satisfied: tzdata>=2022.7 in c:\\users\\rajat\\miniconda3\\envs\\pyspark\\lib\\site-packages (from pandas>=1.2->seaborn) (2024.1)\n",
      "Requirement already satisfied: six>=1.5 in c:\\users\\rajat\\miniconda3\\envs\\pyspark\\lib\\site-packages (from python-dateutil>=2.7->matplotlib!=3.6.1,>=3.4->seaborn) (1.16.0)\n",
      "Downloading seaborn-0.13.2-py3-none-any.whl (294 kB)\n",
      "   ---------------------------------------- 0.0/294.9 kB ? eta -:--:--\n",
      "   ---------------------------------------- 0.0/294.9 kB ? eta -:--:--\n",
      "   - -------------------------------------- 10.2/294.9 kB ? eta -:--:--\n",
      "   ----- --------------------------------- 41.0/294.9 kB 393.8 kB/s eta 0:00:01\n",
      "   ---------------------------------------- 294.9/294.9 kB 2.0 MB/s eta 0:00:00\n",
      "Installing collected packages: seaborn\n",
      "Successfully installed seaborn-0.13.2\n",
      "Note: you may need to restart the kernel to use updated packages.\n"
     ]
    }
   ],
   "source": [
    "pip install seaborn"
   ]
  },
  {
   "cell_type": "code",
   "execution_count": 42,
   "id": "f10d399b-8649-457c-bbec-0f00a2a7e87b",
   "metadata": {},
   "outputs": [
    {
     "name": "stderr",
     "output_type": "stream",
     "text": [
      "C:\\Users\\rajat\\AppData\\Local\\Temp\\ipykernel_13556\\4156693613.py:5: UserWarning: \n",
      "\n",
      "`distplot` is a deprecated function and will be removed in seaborn v0.14.0.\n",
      "\n",
      "Please adapt your code to use either `displot` (a figure-level function with\n",
      "similar flexibility) or `histplot` (an axes-level function for histograms).\n",
      "\n",
      "For a guide to updating your code to use the new functions, please see\n",
      "https://gist.github.com/mwaskom/de44147ed2974457ad6372750bbe5751\n",
      "\n",
      "  sns.distplot(rfm_numbers_df['Recency'])\n",
      "C:\\Users\\rajat\\AppData\\Local\\Temp\\ipykernel_13556\\4156693613.py:8: UserWarning: \n",
      "\n",
      "`distplot` is a deprecated function and will be removed in seaborn v0.14.0.\n",
      "\n",
      "Please adapt your code to use either `displot` (a figure-level function with\n",
      "similar flexibility) or `histplot` (an axes-level function for histograms).\n",
      "\n",
      "For a guide to updating your code to use the new functions, please see\n",
      "https://gist.github.com/mwaskom/de44147ed2974457ad6372750bbe5751\n",
      "\n",
      "  sns.distplot(rfm_numbers_df['Frequency'])\n",
      "C:\\Users\\rajat\\AppData\\Local\\Temp\\ipykernel_13556\\4156693613.py:11: UserWarning: \n",
      "\n",
      "`distplot` is a deprecated function and will be removed in seaborn v0.14.0.\n",
      "\n",
      "Please adapt your code to use either `displot` (a figure-level function with\n",
      "similar flexibility) or `histplot` (an axes-level function for histograms).\n",
      "\n",
      "For a guide to updating your code to use the new functions, please see\n",
      "https://gist.github.com/mwaskom/de44147ed2974457ad6372750bbe5751\n",
      "\n",
      "  sns.distplot(rfm_numbers_df['Monetary'])\n"
     ]
    },
    {
     "data": {
      "text/plain": [
       "<Axes: xlabel='Monetary', ylabel='Density'>"
      ]
     },
     "execution_count": 42,
     "metadata": {},
     "output_type": "execute_result"
    },
    {
     "data": {
      "image/png": "[encoded data removed]",
      "text/plain": [
       "<Figure size 1200x1000 with 3 Axes>"
      ]
     },
     "metadata": {},
     "output_type": "display_data"
    }
   ],
   "source": [
    "import seaborn as sns\n",
    "plt.figure(figsize=(12,10))\n",
    "# Plot distribution of recency\n",
    "plt.subplot(3, 1, 1)\n",
    "sns.distplot(rfm_numbers_df['Recency'])\n",
    "# Plot distribution of frequency\n",
    "plt.subplot(3, 1, 2)\n",
    "sns.distplot(rfm_numbers_df['Frequency'])\n",
    "# Plot distribution of monetary\n",
    "plt.subplot(3, 1, 3)\n",
    "sns.distplot(rfm_numbers_df['Monetary'])"
   ]
  },
  {
   "cell_type": "code",
   "execution_count": 43,
   "id": "315e1336-dd2a-4f4c-bc3a-605262d6a248",
   "metadata": {},
   "outputs": [],
   "source": [
    "# remove zero and negative numbers\n",
    "rfm_data = (rfm_numbers.withColumn(\"Monetary\", when(col(\"Monetary\") <= 0, 1).otherwise(col(\"Monetary\"))))\n"
   ]
  },
  {
   "cell_type": "code",
   "execution_count": 44,
   "id": "915e91da-4fe9-423a-b105-d2d09db5b433",
   "metadata": {},
   "outputs": [],
   "source": [
    "features = rfm_data.columns[1:]"
   ]
  },
  {
   "cell_type": "code",
   "execution_count": 45,
   "id": "b5505f76-a48b-4b38-93ed-4eac7cf01874",
   "metadata": {},
   "outputs": [
    {
     "name": "stdout",
     "output_type": "stream",
     "text": [
      "+----------+-------+---------+--------+\n",
      "|CustomerID|Recency|Frequency|Monetary|\n",
      "+----------+-------+---------+--------+\n",
      "|     15619|     11|        1|     337|\n",
      "|     17389|      1|        3|    3389|\n",
      "|   2884871|    171|        5|    1122|\n",
      "|    394781|     81|        6|      98|\n",
      "|     98132|     17|        2|    3747|\n",
      "+----------+-------+---------+--------+\n",
      "only showing top 5 rows\n",
      "\n"
     ]
    }
   ],
   "source": [
    "rfm_data.show(5)"
   ]
  },
  {
   "cell_type": "code",
   "execution_count": 46,
   "id": "eb2743e4-dd7c-4588-b163-b013358d0266",
   "metadata": {},
   "outputs": [
    {
     "name": "stdout",
     "output_type": "stream",
     "text": [
      "+----------+------------------+\n",
      "|CustomerID|      rfm_features|\n",
      "+----------+------------------+\n",
      "|     15619|  [11.0,1.0,337.0]|\n",
      "|     17389|  [1.0,3.0,3389.0]|\n",
      "|   2884871|[171.0,5.0,1122.0]|\n",
      "|    394781|   [81.0,6.0,98.0]|\n",
      "|     98132| [17.0,2.0,3747.0]|\n",
      "+----------+------------------+\n",
      "only showing top 5 rows\n",
      "\n"
     ]
    }
   ],
   "source": [
    "# vectorize all features\n",
    "assembler = VectorAssembler(inputCols=features, outputCol=\"rfm_features\")\n",
    "assembled_data = assembler.transform(rfm_data)\n",
    "assembled_data = assembled_data.select('CustomerID', 'rfm_features')\n",
    "assembled_data.show(5)\n",
    "     "
   ]
  },
  {
   "cell_type": "code",
   "execution_count": 47,
   "id": "4d50d5a4-dfd8-4b61-b0fe-b39c8ad28cb4",
   "metadata": {},
   "outputs": [
    {
     "name": "stdout",
     "output_type": "stream",
     "text": [
      "+----------+------------------+--------------------+\n",
      "|CustomerID|      rfm_features|    rfm_standardized|\n",
      "+----------+------------------+--------------------+\n",
      "|     15619|  [11.0,1.0,337.0]|[0.18112700689788...|\n",
      "|     17389|  [1.0,3.0,3389.0]|[0.01646609153617...|\n",
      "|   2884871|[171.0,5.0,1122.0]|[2.81570165268533...|\n",
      "|    394781|   [81.0,6.0,98.0]|[1.33375341442989...|\n",
      "|     98132| [17.0,2.0,3747.0]|[0.27992355611491...|\n",
      "+----------+------------------+--------------------+\n",
      "only showing top 5 rows\n",
      "\n"
     ]
    }
   ],
   "source": [
    "# Standardization \n",
    "scaler = StandardScaler(inputCol='rfm_features', outputCol='rfm_standardized')\n",
    "data_scale = scaler.fit(assembled_data)\n",
    "scaled_data = data_scale.transform(assembled_data)\n",
    "scaled_data.show(5)"
   ]
  },
  {
   "cell_type": "code",
   "execution_count": 48,
   "id": "ee9dfa70-179b-4d42-ba73-797014080d0c",
   "metadata": {},
   "outputs": [],
   "source": [
    "costs = np.zeros(10)\n",
    "# Apply k-means with different value of k\n",
    "for k in range(2,10):\n",
    "    kmeans = KMeans().setK(k).setSeed(1).setFeaturesCol('rfm_standardized')\n",
    "    model = kmeans.fit(scaled_data)\n",
    "    costs[k] = model.summary.trainingCost"
   ]
  },
  {
   "cell_type": "code",
   "execution_count": null,
   "id": "eafaeb21-80fa-4b9f-b193-ec34bf3add35",
   "metadata": {},
   "outputs": [],
   "source": []
  },
  {
   "cell_type": "code",
   "execution_count": 49,
   "id": "623d12b2-e645-4b62-90dd-18ba5f2b8cff",
   "metadata": {},
   "outputs": [
    {
     "data": {
      "text/plain": [
       "Text(0.5, 1.0, 'Elbow Curve')"
      ]
     },
     "execution_count": 49,
     "metadata": {},
     "output_type": "execute_result"
    },
    {
     "data": {
      "image/png": "[encoded data removed]",
      "text/plain": [
       "<Figure size 1200x800 with 1 Axes>"
      ]
     },
     "metadata": {},
     "output_type": "display_data"
    }
   ],
   "source": [
    "# Plot the cost\n",
    "df_cost = pd.DataFrame(costs[2:])\n",
    "df_cost.columns = [\"cost\"]\n",
    "new_col = [2,3,4,5,6,7,8, 9]\n",
    "df_cost.insert(0, 'cluster', new_col)\n",
    "\n",
    "fig, ax = plt.subplots(1, 1, figsize =(12, 8))\n",
    "ax.plot(df_cost.cluster, df_cost.cost)\n",
    "ax.set_xlabel('Number of Clusters')\n",
    "ax.set_ylabel('Score')\n",
    "ax.set_title('Elbow Curve')"
   ]
  },
  {
   "cell_type": "code",
   "execution_count": 50,
   "id": "9813b724-a2bd-4e7f-afb9-c25af4a560cb",
   "metadata": {},
   "outputs": [],
   "source": [
    "k_means = KMeans(featuresCol='rfm_standardized', k=4)\n",
    "model = k_means.fit(scaled_data)\n",
    "predictions = model.transform(scaled_data)\n",
    "\n",
    "result = predictions.select('CustomerID', 'prediction')\n",
    "     "
   ]
  },
  {
   "cell_type": "code",
   "execution_count": 51,
   "id": "1791a907-3cce-4535-9f14-bd9d6102e7b8",
   "metadata": {},
   "outputs": [
    {
     "name": "stdout",
     "output_type": "stream",
     "text": [
      "+----------+----------+\n",
      "|CustomerID|prediction|\n",
      "+----------+----------+\n",
      "|     15619|         1|\n",
      "|     17389|         2|\n",
      "|   2884871|         3|\n",
      "|    394781|         3|\n",
      "|     98132|         2|\n",
      "+----------+----------+\n",
      "only showing top 5 rows\n",
      "\n"
     ]
    }
   ],
   "source": [
    "result.show(5)"
   ]
  },
  {
   "cell_type": "code",
   "execution_count": 53,
   "id": "8d405007-9ac9-4c6d-b5cf-a84a9ca2e04b",
   "metadata": {},
   "outputs": [
    {
     "name": "stdout",
     "output_type": "stream",
     "text": [
      "+----------+-------+---------+--------+--------+\n",
      "|CustomerID|Recency|Frequency|Monetary| Loyalty|\n",
      "+----------+-------+---------+--------+--------+\n",
      "|     15619|     11|        1|     337|Platinum|\n",
      "|     17389|      1|        3|    3389|Platinum|\n",
      "|   2884871|    171|        5|    1122|Platinum|\n",
      "|    394781|     81|        6|      98|Platinum|\n",
      "|     98132|     17|        2|    3747|Platinum|\n",
      "+----------+-------+---------+--------+--------+\n",
      "only showing top 5 rows\n",
      "\n"
     ]
    }
   ],
   "source": [
    "rfm_score = spark.read.csv('retail_loyalty_rfm.csv', inferSchema=True, header=True)\n",
    "rfm_score = rfm_score.select(\"CustomerID\", \"Recency\", \"Frequency\", \"Monetary\", \"Loyalty\")\n",
    "rfm_score.show(5)"
   ]
  },
  {
   "cell_type": "code",
   "execution_count": 54,
   "id": "16ee2632-5dcf-412c-8415-2256b3ca6169",
   "metadata": {},
   "outputs": [],
   "source": [
    "combined_result = result.join(rfm_score, on='CustomerID', how='inner')\n",
    "     "
   ]
  },
  {
   "cell_type": "code",
   "execution_count": 55,
   "id": "fb2d70cf-2dbc-4966-b63e-34c00c80832c",
   "metadata": {},
   "outputs": [],
   "source": [
    "result = combined_result.toPandas()"
   ]
  },
  {
   "cell_type": "code",
   "execution_count": 56,
   "id": "1bf91997-b75c-4545-a2cf-840dee78aba5",
   "metadata": {},
   "outputs": [],
   "source": [
    "import seaborn as sns"
   ]
  },
  {
   "cell_type": "code",
   "execution_count": 57,
   "id": "50a41019-c432-43bc-9f41-a55bf20e0b36",
   "metadata": {},
   "outputs": [
    {
     "data": {
      "image/png": "[encoded data removed]",
      "text/plain": [
       "<Figure size 600x800 with 1 Axes>"
      ]
     },
     "metadata": {},
     "output_type": "display_data"
    }
   ],
   "source": [
    "fig, ax = plt.subplots(1, 1, figsize=(6, 8))\n",
    "\n",
    "sns.countplot(x=\"prediction\", data=result)\n",
    "for p in ax.patches:\n",
    "    ax.annotate('{}'.format(p.get_height()), (p.get_x() + 0.3, p.get_height() + 20))"
   ]
  },
  {
   "cell_type": "code",
   "execution_count": 58,
   "id": "5193d61b-2c4e-492f-b339-a1117b9a2f4f",
   "metadata": {},
   "outputs": [
    {
     "data": {
      "text/plain": [
       "<Axes: xlabel='prediction', ylabel='Monetary'>"
      ]
     },
     "execution_count": 58,
     "metadata": {},
     "output_type": "execute_result"
    },
    {
     "data": {
      "image/png": "[encoded data removed]",
      "text/plain": [
       "<Figure size 2000x1000 with 3 Axes>"
      ]
     },
     "metadata": {},
     "output_type": "display_data"
    }
   ],
   "source": [
    "fig, ax = plt.subplots(1, 3, figsize=(20, 10))\n",
    "sns.boxplot(x='prediction', y='Recency', data=result, ax=ax[0])\n",
    "sns.boxplot(x='prediction', y='Frequency', data=result, ax=ax[1])\n",
    "sns.boxplot(x='prediction', y='Monetary', data=result, ax=ax[2])"
   ]
  },
  {
   "cell_type": "code",
   "execution_count": null,
   "id": "f6daf2fd-d94c-49c4-8123-baa333aebd37",
   "metadata": {},
   "outputs": [],
   "source": []
  }
 ],
 "metadata": {
  "kernelspec": {
   "display_name": "Python 3 (ipykernel)",
   "language": "python",
   "name": "python3"
  },
  "language_info": {
   "codemirror_mode": {
    "name": "ipython",
    "version": 3
   },
   "file_extension": ".py",
   "mimetype": "text/x-python",
   "name": "python",
   "nbconvert_exporter": "python",
   "pygments_lexer": "ipython3",
   "version": "3.12.4"
  }
 },
 "nbformat": 4,
 "nbformat_minor": 5
}
